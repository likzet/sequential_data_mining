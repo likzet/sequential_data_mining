{
  "nbformat": 4,
  "nbformat_minor": 0,
  "metadata": {
    "kernelspec": {
      "display_name": "Python 3",
      "language": "python",
      "name": "python3"
    },
    "language_info": {
      "codemirror_mode": {
        "name": "ipython",
        "version": 3
      },
      "file_extension": ".py",
      "mimetype": "text/x-python",
      "name": "python",
      "nbconvert_exporter": "python",
      "pygments_lexer": "ipython3",
      "version": "3.6.4"
    },
    "colab": {
      "name": "ISP_seminar_seq2seq_attention.ipynb",
      "provenance": []
    }
  },
  "cells": [
    {
      "cell_type": "markdown",
      "metadata": {
        "id": "AAX52K7c-A7w",
        "colab_type": "text"
      },
      "source": [
        "# Seq2Seq with Attention Model (Pytorch Version)\n",
        "\n",
        "The source notebook is\n",
        "https://github.com/IKMLab/Seq2seq-with-attention-tutorial"
      ]
    },
    {
      "cell_type": "markdown",
      "metadata": {
        "id": "akAZomd5-A70",
        "colab_type": "text"
      },
      "source": [
        "## A neural network to translate from French to English"
      ]
    },
    {
      "cell_type": "markdown",
      "metadata": {
        "id": "kqZYXwI9-A72",
        "colab_type": "text"
      },
      "source": [
        "**Examples**: [KEY: > input, = target, < output]<br>\n",
        "\n",
        "> il est en train de peindre un tableau .<br>\n",
        "= he is painting a picture .<br>\n",
        "< he is painting a picture .<br>\n",
        "\n",
        "> pourquoi ne pas essayer ce vin delicieux ?<br>\n",
        "= why not try that delicious wine ?<br>\n",
        "< why not try that delicious wine ?<br>\n",
        "\n",
        "> elle n est pas poete mais romanciere .<br>\n",
        "= she is not a poet but a novelist .<br>\n",
        "< she not not a poet but a novelist .<br>\n",
        "\n",
        "> vous etes trop maigre .<br>\n",
        "= you re too skinny .<br>\n",
        "< you re all alone .<br>"
      ]
    },
    {
      "cell_type": "markdown",
      "metadata": {
        "id": "q5RVY987-A73",
        "colab_type": "text"
      },
      "source": [
        "Seq2Seq Paper Link: https://arxiv.org/abs/1409.3215<br>\n",
        "Attention Mechanism Paper Link: https://arxiv.org/abs/1409.0473"
      ]
    },
    {
      "cell_type": "markdown",
      "metadata": {
        "id": "kN0v6II9-A74",
        "colab_type": "text"
      },
      "source": [
        "- Two recurrent neural networks work together to transform one sequence to another. An encoder network condenses an input sequence into a vector, and a decoder network unfolds that vector into a new sequence. To improve upon this model we’ll use an attention mechanism, which lets the decoder learn to focus over a specific range of the input sequence."
      ]
    },
    {
      "cell_type": "markdown",
      "metadata": {
        "id": "DpFyRbcA-A75",
        "colab_type": "text"
      },
      "source": [
        "![](https://i.imgur.com/GVpPU5w.png)"
      ]
    },
    {
      "cell_type": "markdown",
      "metadata": {
        "id": "_5cc3Da8-A77",
        "colab_type": "text"
      },
      "source": [
        "## Requirements"
      ]
    },
    {
      "cell_type": "code",
      "metadata": {
        "id": "wS1jHb86-A78",
        "colab_type": "code",
        "colab": {}
      },
      "source": [
        "from __future__ import unicode_literals, print_function, division\n",
        "from io import open\n",
        "import unicodedata\n",
        "import string\n",
        "import re\n",
        "import random\n",
        "\n",
        "import torch\n",
        "import torch.nn as nn\n",
        "from torch import optim\n",
        "import torch.nn.functional as F\n",
        "\n",
        "device = torch.device(\"cuda\" if torch.cuda.is_available() else \"cpu\")"
      ],
      "execution_count": 0,
      "outputs": []
    },
    {
      "cell_type": "markdown",
      "metadata": {
        "id": "rU0iRboN-A8A",
        "colab_type": "text"
      },
      "source": [
        "## Load dataset"
      ]
    },
    {
      "cell_type": "markdown",
      "metadata": {
        "id": "S081DNUF-A8B",
        "colab_type": "text"
      },
      "source": [
        "The file is a tab separated list of translation pairs.<br>\n",
        "Download the data from [here](https://download.pytorch.org/tutorial/data.zip) and extract it to the current directory."
      ]
    },
    {
      "cell_type": "code",
      "metadata": {
        "id": "iHhyVYcC_M9Y",
        "colab_type": "code",
        "outputId": "3c0febf4-44be-4d3d-d66e-8747caee3b16",
        "colab": {
          "base_uri": "https://localhost:8080/",
          "height": 202
        }
      },
      "source": [
        "!wget https://download.pytorch.org/tutorial/data.zip"
      ],
      "execution_count": 0,
      "outputs": [
        {
          "output_type": "stream",
          "text": [
            "--2020-01-30 13:59:18--  https://download.pytorch.org/tutorial/data.zip\n",
            "Resolving download.pytorch.org (download.pytorch.org)... 13.224.2.121, 13.224.2.111, 13.224.2.116, ...\n",
            "Connecting to download.pytorch.org (download.pytorch.org)|13.224.2.121|:443... connected.\n",
            "HTTP request sent, awaiting response... 200 OK\n",
            "Length: 2882130 (2.7M) [application/zip]\n",
            "Saving to: ‘data.zip.1’\n",
            "\n",
            "data.zip.1          100%[===================>]   2.75M  6.29MB/s    in 0.4s    \n",
            "\n",
            "2020-01-30 13:59:19 (6.29 MB/s) - ‘data.zip.1’ saved [2882130/2882130]\n",
            "\n"
          ],
          "name": "stdout"
        }
      ]
    },
    {
      "cell_type": "code",
      "metadata": {
        "id": "FU9Ejfff_Owt",
        "colab_type": "code",
        "outputId": "1f79f7e0-323e-4f63-dc8e-f6f37082df1e",
        "colab": {
          "base_uri": "https://localhost:8080/",
          "height": 403
        }
      },
      "source": [
        "!unzip data.zip"
      ],
      "execution_count": 0,
      "outputs": [
        {
          "output_type": "stream",
          "text": [
            "Archive:  data.zip\n",
            "replace data/eng-fra.txt? [y]es, [n]o, [A]ll, [N]one, [r]ename: y\n",
            "  inflating: data/eng-fra.txt        \n",
            "replace data/names/Arabic.txt? [y]es, [n]o, [A]ll, [N]one, [r]ename: yA\n",
            "  inflating: data/names/Arabic.txt   \n",
            "replace data/names/Chinese.txt? [y]es, [n]o, [A]ll, [N]one, [r]ename: Ay\n",
            "  inflating: data/names/Chinese.txt  \n",
            "  inflating: data/names/Czech.txt    \n",
            "  inflating: data/names/Dutch.txt    \n",
            "  inflating: data/names/English.txt  \n",
            "  inflating: data/names/French.txt   \n",
            "  inflating: data/names/German.txt   \n",
            "  inflating: data/names/Greek.txt    \n",
            "  inflating: data/names/Irish.txt    \n",
            "  inflating: data/names/Italian.txt  \n",
            "  inflating: data/names/Japanese.txt  \n",
            "  inflating: data/names/Korean.txt   \n",
            "  inflating: data/names/Polish.txt   \n",
            "  inflating: data/names/Portuguese.txt  \n",
            "  inflating: data/names/Russian.txt  \n",
            "  inflating: data/names/Scottish.txt  \n",
            "  inflating: data/names/Spanish.txt  \n",
            "  inflating: data/names/Vietnamese.txt  \n"
          ],
          "name": "stdout"
        }
      ]
    },
    {
      "cell_type": "code",
      "metadata": {
        "id": "P7WV1HUq_bd5",
        "colab_type": "code",
        "outputId": "4b1b9da7-5d4b-4a96-d870-01b7555f03b3",
        "colab": {
          "base_uri": "https://localhost:8080/",
          "height": 34
        }
      },
      "source": [
        "!ls data"
      ],
      "execution_count": 0,
      "outputs": [
        {
          "output_type": "stream",
          "text": [
            "eng-fra.txt  names\n"
          ],
          "name": "stdout"
        }
      ]
    },
    {
      "cell_type": "markdown",
      "metadata": {
        "id": "VINBuZfj-A8C",
        "colab_type": "text"
      },
      "source": [
        "The files are all in Unicode, to simplify we will turn Unicode characters to ASCII."
      ]
    },
    {
      "cell_type": "code",
      "metadata": {
        "id": "E2UXp8mt-A8D",
        "colab_type": "code",
        "colab": {}
      },
      "source": [
        "def unicodeToAscii(s):\n",
        "    return ''.join(\n",
        "        c for c in unicodedata.normalize('NFD', s)\n",
        "        if unicodedata.category(c) != 'Mn'\n",
        "    )"
      ],
      "execution_count": 0,
      "outputs": []
    },
    {
      "cell_type": "markdown",
      "metadata": {
        "id": "CFnJ2vam-A8G",
        "colab_type": "text"
      },
      "source": [
        "Lowercase, trim, and remove non-letter characters."
      ]
    },
    {
      "cell_type": "code",
      "metadata": {
        "id": "yHIPFT_z-A8H",
        "colab_type": "code",
        "colab": {}
      },
      "source": [
        "def normalizeString(s):\n",
        "    # move to lowercase, remove space at the begining and at the end of the string  \n",
        "    s = unicodeToAscii(s.lower().strip())\n",
        "\n",
        "    # add space before .!?\n",
        "    s = re.sub(r\"([.!?])\", r\" \\1\", s)\n",
        "\n",
        "    # replace all sequences without a-zA-Z.!? with one space\n",
        "    s = re.sub(r\"[^a-zA-Z.!?]+\", r\" \", s)\n",
        "    return s"
      ],
      "execution_count": 0,
      "outputs": []
    },
    {
      "cell_type": "code",
      "metadata": {
        "id": "J3Hq4HHMCAhe",
        "colab_type": "code",
        "outputId": "c241db59-455e-4eb3-f454-a581e2bf0df6",
        "colab": {
          "base_uri": "https://localhost:8080/",
          "height": 34
        }
      },
      "source": [
        "re.sub(r\"([!.?])\", r\" \\1\", 'aaa?ab..baa!!')"
      ],
      "execution_count": 0,
      "outputs": [
        {
          "output_type": "execute_result",
          "data": {
            "text/plain": [
              "'aaa!?ab!.!.baa!!!!'"
            ]
          },
          "metadata": {
            "tags": []
          },
          "execution_count": 72
        }
      ]
    },
    {
      "cell_type": "code",
      "metadata": {
        "id": "dxh6_FOhCJUw",
        "colab_type": "code",
        "outputId": "eded1d83-9f36-4ed7-9dfc-84fe028294c4",
        "colab": {
          "base_uri": "https://localhost:8080/",
          "height": 34
        }
      },
      "source": [
        "re.sub(r\"[^a-z]+\", r\" \", 'aaaabbbb--baa+ca###')"
      ],
      "execution_count": 0,
      "outputs": [
        {
          "output_type": "execute_result",
          "data": {
            "text/plain": [
              "'aaaabbbb baa ca '"
            ]
          },
          "metadata": {
            "tags": []
          },
          "execution_count": 76
        }
      ]
    },
    {
      "cell_type": "code",
      "metadata": {
        "id": "P71MnlMQBCwG",
        "colab_type": "code",
        "outputId": "b482194d-f9ba-4c19-9f7d-b6357be20987",
        "colab": {
          "base_uri": "https://localhost:8080/",
          "height": 34
        }
      },
      "source": [
        "normalizeString(\"  Dog???? cat!!! an aNimal#, the. whale \")"
      ],
      "execution_count": 0,
      "outputs": [
        {
          "output_type": "execute_result",
          "data": {
            "text/plain": [
              "'dog ? ? ? ? cat ! ! ! an animal the . whale'"
            ]
          },
          "metadata": {
            "tags": []
          },
          "execution_count": 78
        }
      ]
    },
    {
      "cell_type": "markdown",
      "metadata": {
        "id": "vk6o5022-A8P",
        "colab_type": "text"
      },
      "source": [
        "we will be representing each word in a language as a one-hot vector, or giant vector of zeros except for a single one (at the index of the word). "
      ]
    },
    {
      "cell_type": "markdown",
      "metadata": {
        "id": "fehAaKy9-A8S",
        "colab_type": "text"
      },
      "source": [
        "![](https://i.imgur.com/Xkrm9Km.png)"
      ]
    },
    {
      "cell_type": "markdown",
      "metadata": {
        "id": "-D_L4F2v-A8U",
        "colab_type": "text"
      },
      "source": [
        "## Define the word & index transformer"
      ]
    },
    {
      "cell_type": "code",
      "metadata": {
        "id": "uSV4gCse-A8X",
        "colab_type": "code",
        "colab": {}
      },
      "source": [
        "SOS_token = 0 # start of sentence \n",
        "EOS_token = 1 # end of sentence\n",
        "\n",
        "# language class\n",
        "class Lang:\n",
        "    def __init__(self, name):\n",
        "        # language name\n",
        "        self.name = name\n",
        "        # word to index dictionary\n",
        "        self.word2index = {}\n",
        "        # number of word encountered\n",
        "        self.word2count = {}\n",
        "        # index to word dictionary\n",
        "        self.index2word = {0: \"SOS\", 1: \"EOS\"}\n",
        "        self.n_words = 2\n",
        "\n",
        "    def addSentence(self, sentence):\n",
        "        # add a sentence to the language representation\n",
        "        for word in sentence.split(' '):\n",
        "            # we add each word separately\n",
        "            self.addWord(word) \n",
        "\n",
        "    def addWord(self, word):\n",
        "        # add a word to the language representation\n",
        "        if word not in self.word2index:\n",
        "            # add new word\n",
        "            # index equals to the current size of the dictionary  \n",
        "            self.word2index[word] = self.n_words\n",
        "            # we encountered the word only once\n",
        "            self.word2count[word] = 1\n",
        "            # backward index\n",
        "            self.index2word[self.n_words] = word\n",
        "            # dictionary size is bigger now!\n",
        "            self.n_words += 1\n",
        "        else:\n",
        "            # we change only the number of occurences of the word\n",
        "            self.word2count[word] += 1"
      ],
      "execution_count": 0,
      "outputs": []
    },
    {
      "cell_type": "code",
      "metadata": {
        "id": "ribBrMxtE0yV",
        "colab_type": "code",
        "outputId": "37d8d0bf-50d4-47f7-a838-723a64113b52",
        "colab": {
          "base_uri": "https://localhost:8080/",
          "height": 90
        }
      },
      "source": [
        "example_eng_lang = Lang('example_eng')\n",
        "example_eng_lang.addSentence(\"the quick brown fox jumps over the lazy dog\")\n",
        "example_eng_lang.addSentence(\"the lazy dog jumps over a small log\")\n",
        "print(example_eng_lang.word2index)\n",
        "print(example_eng_lang.word2count)\n",
        "print(example_eng_lang.index2word)\n",
        "print(example_eng_lang.n_words)"
      ],
      "execution_count": 0,
      "outputs": [
        {
          "output_type": "stream",
          "text": [
            "{'the': 2, 'quick': 3, 'brown': 4, 'fox': 5, 'jumps': 6, 'over': 7, 'lazy': 8, 'dog': 9, 'a': 10, 'small': 11, 'log': 12}\n",
            "{'the': 3, 'quick': 1, 'brown': 1, 'fox': 1, 'jumps': 2, 'over': 2, 'lazy': 2, 'dog': 2, 'a': 1, 'small': 1, 'log': 1}\n",
            "{0: 'SOS', 1: 'EOS', 2: 'the', 3: 'quick', 4: 'brown', 5: 'fox', 6: 'jumps', 7: 'over', 8: 'lazy', 9: 'dog', 10: 'a', 11: 'small', 12: 'log'}\n",
            "13\n"
          ],
          "name": "stdout"
        }
      ]
    },
    {
      "cell_type": "markdown",
      "metadata": {
        "id": "Ihu8xOW4-A8b",
        "colab_type": "text"
      },
      "source": [
        "## Read dataset"
      ]
    },
    {
      "cell_type": "code",
      "metadata": {
        "id": "l8tFdFdm-A8c",
        "colab_type": "code",
        "colab": {}
      },
      "source": [
        "def readLangs(lang1, lang2, reverse=False):\n",
        "    print(\"Reading lines...\")\n",
        "\n",
        "    lines = open('data/{}-{}.txt'.format(lang1, lang2), encoding='utf-8').read().strip().split('\\n')\n",
        "    pairs = [[normalizeString(s) for s in l.split('\\t')] for l in lines]\n",
        "\n",
        "    if reverse:\n",
        "        pairs = [list(reversed(p)) for p in pairs]\n",
        "        input_lang = Lang(lang2)\n",
        "        output_lang = Lang(lang1)\n",
        "    else:\n",
        "        input_lang = Lang(lang1)\n",
        "        output_lang = Lang(lang2)\n",
        "\n",
        "    return input_lang, output_lang, pairs"
      ],
      "execution_count": 0,
      "outputs": []
    },
    {
      "cell_type": "markdown",
      "metadata": {
        "id": "sBhvECUj-A8h",
        "colab_type": "text"
      },
      "source": [
        "## Data Clearning (Sample by eng_prefixes)"
      ]
    },
    {
      "cell_type": "code",
      "metadata": {
        "id": "yUXJS3AY-A8i",
        "colab_type": "code",
        "colab": {}
      },
      "source": [
        "MAX_LENGTH = 10\n",
        "\n",
        "eng_prefixes = (\n",
        "    \"i am \", \"i m \",\n",
        "    \"he is\", \"he s \",\n",
        "    \"she is\", \"she s\",\n",
        "    \"you are\", \"you re \",\n",
        "    \"we are\", \"we re \",\n",
        "    \"they are\", \"they re \"\n",
        ")\n",
        "\n",
        "def filterPair(p):\n",
        "    return len(p[0].split(' ')) < MAX_LENGTH and len(p[1].split(' ')) < MAX_LENGTH and p[1].startswith(eng_prefixes)\n",
        "\n",
        "def filterPairs(pairs):\n",
        "    return [pair for pair in pairs if filterPair(pair)]"
      ],
      "execution_count": 0,
      "outputs": []
    },
    {
      "cell_type": "markdown",
      "metadata": {
        "id": "MFyXjigS-A8o",
        "colab_type": "text"
      },
      "source": [
        "### ======== CHALLENGE PART ONE ========"
      ]
    },
    {
      "cell_type": "markdown",
      "metadata": {
        "id": "45QMGFc7-A8p",
        "colab_type": "text"
      },
      "source": [
        "Please design your own sampling rules & adjust the model parameters by training with these datasets"
      ]
    },
    {
      "cell_type": "code",
      "metadata": {
        "id": "ypfGqV41-A8q",
        "colab_type": "code",
        "colab": {}
      },
      "source": [
        ""
      ],
      "execution_count": 0,
      "outputs": []
    },
    {
      "cell_type": "markdown",
      "metadata": {
        "id": "1WdhIqBC-A8t",
        "colab_type": "text"
      },
      "source": [
        "### ======== END OF CHALLENGE ONE ========"
      ]
    },
    {
      "cell_type": "code",
      "metadata": {
        "id": "2q13fecf-A8u",
        "colab_type": "code",
        "colab": {}
      },
      "source": [
        "def prepareData(lang1, lang2, reverse=False):\n",
        "    input_lang, output_lang, pairs = readLangs(lang1, lang2, reverse)\n",
        "    \n",
        "    print(\"Read %s sentence pairs\" % len(pairs))\n",
        "    pairs = filterPairs(pairs)\n",
        "    \n",
        "    print(\"Trimmed to %s sentence pairs\" % len(pairs))\n",
        "    print(\"Counting words...\")\n",
        "    \n",
        "    for pair in pairs:\n",
        "        input_lang.addSentence(pair[0])\n",
        "        output_lang.addSentence(pair[1])\n",
        "    \n",
        "    print(\"Counted words:\")\n",
        "    print(input_lang.name, input_lang.n_words)\n",
        "    print(output_lang.name, output_lang.n_words)\n",
        "    \n",
        "    return input_lang, output_lang, pairs"
      ],
      "execution_count": 0,
      "outputs": []
    },
    {
      "cell_type": "code",
      "metadata": {
        "id": "SHEsxCjl-A8x",
        "colab_type": "code",
        "outputId": "cc5ebdc2-a397-4117-dee6-7d389330c021",
        "colab": {
          "base_uri": "https://localhost:8080/",
          "height": 302
        }
      },
      "source": [
        "input_lang, output_lang, pairs = prepareData('eng', 'fra', True)\n",
        "\n",
        "data_overview_num = 10\n",
        "for _ in range(data_overview_num):\n",
        "    print(random.choice(pairs))"
      ],
      "execution_count": 0,
      "outputs": [
        {
          "output_type": "stream",
          "text": [
            "Reading lines...\n",
            "Read 135842 sentence pairs\n",
            "Trimmed to 10853 sentence pairs\n",
            "Counting words...\n",
            "Counted words:\n",
            "fra 4489\n",
            "eng 2925\n",
            "['tu fais desormais partie de la bande .', 'you re part of the gang now .']\n",
            "['il est poissonnier .', 'he is a fishmonger .']\n",
            "['tu es trop critique des defauts des autres .', 'you are too critical of others shortcomings .']\n",
            "['elle n est pas grande .', 'she is not tall .']\n",
            "['vous etes idiote .', 'you re being silly .']\n",
            "['je ne suis pas heureux dans mon travail .', 'i am not happy with my job .']\n",
            "['tu te fous de moi .', 'you re putting me on .']\n",
            "['j ai le c ur brise .', 'i m heartbroken .']\n",
            "['je suis impressionne par ton francais .', 'i m impressed with your french .']\n",
            "['il n est pas a la maison .', 'he s not at home .']\n"
          ],
          "name": "stdout"
        }
      ]
    },
    {
      "cell_type": "code",
      "metadata": {
        "id": "GmPCvxV5HUmc",
        "colab_type": "code",
        "outputId": "2a295130-97a1-40bc-b724-c2260be89994",
        "colab": {
          "base_uri": "https://localhost:8080/",
          "height": 50
        }
      },
      "source": [
        "print(input_lang.word2count['francaise'])\n",
        "print(output_lang.word2count['french'])"
      ],
      "execution_count": 0,
      "outputs": [
        {
          "output_type": "stream",
          "text": [
            "4\n",
            "34\n"
          ],
          "name": "stdout"
        }
      ]
    },
    {
      "cell_type": "markdown",
      "metadata": {
        "id": "HiqOY8Ch-A82",
        "colab_type": "text"
      },
      "source": [
        "## Seq2Seq Model"
      ]
    },
    {
      "cell_type": "markdown",
      "metadata": {
        "id": "mhYPR_IY-A83",
        "colab_type": "text"
      },
      "source": [
        "A Sequence to Sequence network, or seq2seq network, or Encoder Decoder network, is a model consisting of two RNNs called the encoder and decoder. The encoder reads an input sequence and outputs a single vector, and the decoder reads that vector to produce an output sequence."
      ]
    },
    {
      "cell_type": "markdown",
      "metadata": {
        "id": "_AH1WMEb-A85",
        "colab_type": "text"
      },
      "source": [
        "### Encoder"
      ]
    },
    {
      "cell_type": "markdown",
      "metadata": {
        "id": "ufwiZLW9-A86",
        "colab_type": "text"
      },
      "source": [
        "The encoder of a seq2seq network is a RNN that outputs some value for every word from the input sentence. For every input word the encoder outputs a vector and a hidden state, and uses the hidden state for the next input word."
      ]
    },
    {
      "cell_type": "markdown",
      "metadata": {
        "id": "Q3TLBnr6-A87",
        "colab_type": "text"
      },
      "source": [
        "![](https://i.imgur.com/n340MrD.png)"
      ]
    },
    {
      "cell_type": "code",
      "metadata": {
        "id": "Fh2v9JKy-A88",
        "colab_type": "code",
        "colab": {}
      },
      "source": [
        "class EncoderRNN(nn.Module):\n",
        "    def __init__(self, input_size, hidden_size):\n",
        "        super(EncoderRNN, self).__init__()\n",
        "        self.hidden_size = hidden_size\n",
        "        \n",
        "        self.embedding = nn.Embedding(input_size, hidden_size)\n",
        "        self.gru = nn.GRU(hidden_size, hidden_size)\n",
        "        \n",
        "    def forward(self, current_input, hidden):\n",
        "        embedded = self.embedding(current_input).view(1, 1, -1) # the processing is the following: (seq, batch, feature)\n",
        "        output = embedded\n",
        "        output, hidden = self.gru(output, hidden)\n",
        "        return output, hidden\n",
        "    \n",
        "    def initHidden(self):\n",
        "        return torch.zeros(1, 1, self.hidden_size, device=device)"
      ],
      "execution_count": 0,
      "outputs": []
    },
    {
      "cell_type": "markdown",
      "metadata": {
        "id": "RAlPl_OM-A8_",
        "colab_type": "text"
      },
      "source": [
        "### Decoder"
      ]
    },
    {
      "cell_type": "markdown",
      "metadata": {
        "id": "p3a3r2eX-A9A",
        "colab_type": "text"
      },
      "source": [
        "The decoder is another RNN that takes the encoder output vector(s) and outputs a sequence of words to create the translation."
      ]
    },
    {
      "cell_type": "markdown",
      "metadata": {
        "id": "uz3TxSjE-A9B",
        "colab_type": "text"
      },
      "source": [
        "In the simplest seq2seq decoder we use only last output of the encoder. This last output is sometimes called the context vector as it encodes context from the entire sequence. This context vector is used as the initial hidden state of the decoder."
      ]
    },
    {
      "cell_type": "markdown",
      "metadata": {
        "id": "l10DJTvj-A9C",
        "colab_type": "text"
      },
      "source": [
        "![](https://i.imgur.com/XITOJbn.png)"
      ]
    },
    {
      "cell_type": "markdown",
      "metadata": {
        "id": "hmUHs48F-A9F",
        "colab_type": "text"
      },
      "source": [
        "### ======== CHALLENGE PART TWO ========"
      ]
    },
    {
      "cell_type": "markdown",
      "metadata": {
        "id": "W6mua0_M-A9H",
        "colab_type": "text"
      },
      "source": [
        "Please build the DecoderRNN without attention refer to the graph above & compare the difference before and after using attention"
      ]
    },
    {
      "cell_type": "code",
      "metadata": {
        "id": "MAe1dhjT-A9M",
        "colab_type": "code",
        "colab": {}
      },
      "source": [
        "class DecoderRNN(nn.Module):\n",
        "    def __init__(self, hidden_size, output_size, max_length=MAX_LENGTH):\n",
        "        super(DecoderRNN, self).__init__()\n",
        "        self.hidden_size = hidden_size\n",
        "        self.output_size = output_size\n",
        "        self.dropout_p = dropout_p\n",
        "        self.max_length = max_length\n",
        "\n",
        "        self.embedding = nn.Embedding(self.output_size, self.hidden_size)\n",
        "        # Transform the double hidden features into probabilities with max_length size\n",
        "        self.gru = nn.GRU(self.hidden_size, self.hidden_size)\n",
        "        self.out = nn.Linear(self.hidden_size, self.output_size)\n",
        "\n",
        "    def forward(self, inpt, hidden, encoder_outputs):\n",
        "        output = self.embedding(inpt).view(1, 1, -1)\n",
        "\n",
        "        output = F.relu(output)\n",
        "        output, hidden = self.gru(output, hidden)\n",
        "\n",
        "        output = F.log_softmax(self.out(output[0]), dim=1)\n",
        "        return output, hidden\n",
        "\n",
        "    def initHidden(self):\n",
        "        return torch.zeros(1, 1, self.hidden_size, device=device)"
      ],
      "execution_count": 0,
      "outputs": []
    },
    {
      "cell_type": "markdown",
      "metadata": {
        "id": "VYO6mKxt-A9S",
        "colab_type": "text"
      },
      "source": [
        "### ======== END OF CHALLENGE TWO ========"
      ]
    },
    {
      "cell_type": "markdown",
      "metadata": {
        "id": "ZZAosEeZ-A9T",
        "colab_type": "text"
      },
      "source": [
        "### Attention Decoder"
      ]
    },
    {
      "cell_type": "markdown",
      "metadata": {
        "id": "u57Dxc3U-A9U",
        "colab_type": "text"
      },
      "source": [
        "Attention allows the decoder network to “focus” on a different part of the encoder’s outputs for every step of the decoder’s own outputs. First we calculate a set of attention weights. These will be multiplied by the encoder output vectors to create a weighted combination. The result should contain information about that specific part of the input sequence, and thus help the decoder choose the right output words."
      ]
    },
    {
      "cell_type": "markdown",
      "metadata": {
        "id": "ZmjACKbk-A9V",
        "colab_type": "text"
      },
      "source": [
        "![](https://i.imgur.com/QIliyjS.png)"
      ]
    },
    {
      "cell_type": "code",
      "metadata": {
        "id": "4dDli1Hn-A9W",
        "colab_type": "code",
        "colab": {}
      },
      "source": [
        "class AttnDecoderRNN(nn.Module):\n",
        "    def __init__(self, hidden_size, output_size, dropout_p=0.1, max_length=MAX_LENGTH):\n",
        "        super(AttnDecoderRNN, self).__init__()\n",
        "        self.hidden_size = hidden_size\n",
        "        self.output_size = output_size\n",
        "        self.dropout_p = dropout_p\n",
        "        self.max_length = max_length\n",
        "\n",
        "        self.embedding = nn.Embedding(self.output_size, self.hidden_size)\n",
        "        # Transform the double hidden features into probabilities with max_length size\n",
        "        self.attn = nn.Linear(self.hidden_size * 2, self.max_length)\n",
        "        self.attn_combine = nn.Linear(self.hidden_size * 2, self.hidden_size)\n",
        "        self.dropout = nn.Dropout(self.dropout_p)\n",
        "        self.gru = nn.GRU(self.hidden_size, self.hidden_size)\n",
        "        self.out = nn.Linear(self.hidden_size, self.output_size)\n",
        "\n",
        "    def forward(self, inpt, hidden, encoder_outputs):\n",
        "        embedded = self.embedding(inpt).view(1, 1, -1)\n",
        "        embedded = self.dropout(embedded)\n",
        "\n",
        "        attn_weights = F.softmax(self.attn(torch.cat((embedded[0], hidden[0]), 1)), dim=1)\n",
        "        attn_applied = torch.bmm(attn_weights.unsqueeze(0), encoder_outputs.unsqueeze(0))\n",
        "\n",
        "        output = torch.cat((embedded[0], attn_applied[0]), 1)\n",
        "        output = self.attn_combine(output).unsqueeze(0)\n",
        "\n",
        "        output = F.relu(output)\n",
        "        output, hidden = self.gru(output, hidden)\n",
        "\n",
        "        output = F.log_softmax(self.out(output[0]), dim=1)\n",
        "        return output, hidden, attn_weights\n",
        "\n",
        "    def initHidden(self):\n",
        "        return torch.zeros(1, 1, self.hidden_size, device=device)"
      ],
      "execution_count": 0,
      "outputs": []
    },
    {
      "cell_type": "markdown",
      "metadata": {
        "id": "_WeVMjCk-A9a",
        "colab_type": "text"
      },
      "source": [
        "### ======== CHALLENGE PART THREE ========"
      ]
    },
    {
      "cell_type": "markdown",
      "metadata": {
        "id": "6waEVJRK-A9c",
        "colab_type": "text"
      },
      "source": [
        "Try to use another attention function such as \"structure attention\" mentioned by https://arxiv.org/pdf/1409.0473.pdf"
      ]
    },
    {
      "cell_type": "markdown",
      "metadata": {
        "id": "cpXpSDyu-A9d",
        "colab_type": "text"
      },
      "source": [
        "![](https://i.imgur.com/MIyh9pn.png)"
      ]
    },
    {
      "cell_type": "markdown",
      "metadata": {
        "id": "QrDYpDL9-A9e",
        "colab_type": "text"
      },
      "source": [
        "![](https://i.imgur.com/karGLAW.png)\n",
        "![](https://i.imgur.com/N1HS8n7.png)\n",
        "![](https://i.imgur.com/bNdw4mD.png)"
      ]
    },
    {
      "cell_type": "markdown",
      "metadata": {
        "id": "PhFeuBFQ-A9f",
        "colab_type": "text"
      },
      "source": [
        "The dot attention function extracts the **association features between feature vectors by matrix multiplication**, which is more like a machine learning method defined by artificial features. However, structure attention is like a deep learning method to some extent. It automatically learns how to obtain the relevant information between the feature matrices **through hyperparameters W,U and nonlinear equations tanh**. It has a certain improvement on the adaptability of the attention mechanism model."
      ]
    },
    {
      "cell_type": "code",
      "metadata": {
        "id": "8tmBtyLz-A9g",
        "colab_type": "code",
        "colab": {}
      },
      "source": [
        ""
      ],
      "execution_count": 0,
      "outputs": []
    },
    {
      "cell_type": "markdown",
      "metadata": {
        "id": "GlXG1Fio-A9j",
        "colab_type": "text"
      },
      "source": [
        "### ======== END OF CHALLENGE THREE ========"
      ]
    },
    {
      "cell_type": "markdown",
      "metadata": {
        "id": "OA5aGvvp-A9k",
        "colab_type": "text"
      },
      "source": [
        "### Training"
      ]
    },
    {
      "cell_type": "markdown",
      "metadata": {
        "id": "f1IAJENZ-A9l",
        "colab_type": "text"
      },
      "source": [
        "Prepare the training data"
      ]
    },
    {
      "cell_type": "markdown",
      "metadata": {
        "id": "KL2E2uan-A9m",
        "colab_type": "text"
      },
      "source": [
        "To train, for each pair we will need an input tensor (indexes of the words in the input sentence) and target tensor (indexes of the words in the target sentence). While creating these vectors we will append the EOS token to both sequences."
      ]
    },
    {
      "cell_type": "code",
      "metadata": {
        "id": "bWzg4FbD-A9m",
        "colab_type": "code",
        "colab": {}
      },
      "source": [
        "def indexesFromSentence(lang, sentence):\n",
        "    return [lang.word2index[word] for word in sentence.split(' ')]\n",
        "\n",
        "def tensorFromSentence(lang, sentence):\n",
        "    indexes = indexesFromSentence(lang, sentence)\n",
        "    indexes.append(EOS_token)\n",
        "    return torch.tensor(indexes, dtype=torch.long, device=device).view(-1, 1)\n",
        "\n",
        "def tensorsFromPair(pair):\n",
        "    input_tensor = tensorFromSentence(input_lang, pair[0])\n",
        "    target_tensor = tensorFromSentence(output_lang, pair[1])\n",
        "    return (input_tensor, target_tensor)"
      ],
      "execution_count": 0,
      "outputs": []
    },
    {
      "cell_type": "markdown",
      "metadata": {
        "id": "r1X9S31_-A9p",
        "colab_type": "text"
      },
      "source": [
        "#### Training the Model"
      ]
    },
    {
      "cell_type": "markdown",
      "metadata": {
        "id": "p05dA6rm-A9q",
        "colab_type": "text"
      },
      "source": [
        "To train we run the input sentence through the encoder, and keep track of every output and the latest hidden state. Then the decoder is given the <SOS> token as its first input, and the last hidden state of the encoder as its first hidden state."
      ]
    },
    {
      "cell_type": "markdown",
      "metadata": {
        "id": "LrbN2_Qe-A9r",
        "colab_type": "text"
      },
      "source": [
        "**A Tip** : “Teacher forcing” is the concept of using the real target outputs as each next input, instead of using the decoder’s guess as the next input. Using teacher forcing causes it to converge faster but when the trained network is exploited, it may exhibit instability. "
      ]
    },
    {
      "cell_type": "code",
      "metadata": {
        "id": "fDVwFsCY-A9r",
        "colab_type": "code",
        "colab": {}
      },
      "source": [
        "teacher_forcing_ratio = 0.5\n",
        "\n",
        "def train(input_tensor, target_tensor, \n",
        "          encoder, decoder, encoder_optimizer, decoder_optimizer, \n",
        "          criterion, max_length=MAX_LENGTH):\n",
        "    # initialize hidden layer\n",
        "    encoder_hidden = encoder.initHidden()\n",
        "    \n",
        "    # zero gradients for optimizer\n",
        "    encoder_optimizer.zero_grad()\n",
        "    decoder_optimizer.zero_grad()\n",
        "    \n",
        "    # get length of input and target\n",
        "    input_length = input_tensor.size(0)\n",
        "    target_length = target_tensor.size(0)\n",
        "    \n",
        "    # initialize outputs of the encoder\n",
        "    encoder_outputs = torch.zeros(max_length, encoder.hidden_size, device=device)\n",
        "   \n",
        "    for encoder_index in range(input_length):\n",
        "        encoder_output, encoder_hidden = encoder(input_tensor[encoder_index], encoder_hidden)\n",
        "        encoder_outputs[encoder_index] = encoder_output[0, 0]\n",
        "        \n",
        "    decoder_input = torch.tensor([[SOS_token]], device=device)\n",
        "    decoder_hidden = encoder_hidden\n",
        "    \n",
        "    use_teacher_forcing = True if random.random() < teacher_forcing_ratio else False\n",
        "\n",
        "    loss = 0\n",
        "  \n",
        "    if use_teacher_forcing:\n",
        "        # Teacher forcing mode\n",
        "        for decoder_index in range(target_length):\n",
        "            decoder_output, decoder_hidden, decoder_attention = decoder(decoder_input, decoder_hidden, encoder_outputs)\n",
        "            loss += criterion(decoder_output, target_tensor[decoder_index])\n",
        "            # we use true target value as the decoder input for the next step\n",
        "            decoder_input = target_tensor[decoder_index]\n",
        "    else:\n",
        "        # Free running mode\n",
        "        for decoder_index in range(target_length):\n",
        "            decoder_output, decoder_hidden, decoder_attention = decoder(decoder_input, decoder_hidden, encoder_outputs)\n",
        "            # sample the final timestep output as the current input (argmax function)\n",
        "            topvalue, topindex = decoder_output.data.topk(1)\n",
        "            # detach from history as input\n",
        "            decoder_input = topindex.squeeze().detach()\n",
        "            \n",
        "            loss += criterion(decoder_output, target_tensor[decoder_index])\n",
        "            if decoder_input.item() == EOS_token:  # item() : to get a Python number from a tensor containing a single value\n",
        "                break\n",
        "                \n",
        "    loss.backward()\n",
        "    \n",
        "    encoder_optimizer.step()\n",
        "    decoder_optimizer.step()\n",
        "    \n",
        "    return loss.item() / target_length"
      ],
      "execution_count": 0,
      "outputs": []
    },
    {
      "cell_type": "markdown",
      "metadata": {
        "id": "KuFxaSSr-A9v",
        "colab_type": "text"
      },
      "source": [
        "This is a helper function to print time elapsed and estimated time remaining given the current time and progress %."
      ]
    },
    {
      "cell_type": "code",
      "metadata": {
        "id": "365PNRFF-A9w",
        "colab_type": "code",
        "colab": {}
      },
      "source": [
        "import time\n",
        "import math\n",
        "\n",
        "def asMinutes(s):\n",
        "    m = math.floor(s / 60)\n",
        "    s -= m * 60\n",
        "    return '%dm %ds' % (m, s)\n",
        "\n",
        "def timeSince(since, percent):\n",
        "    now = time.time()\n",
        "    s = now - since\n",
        "    es = s / (percent)\n",
        "    rs = es - s\n",
        "    return '%s (- %s)' % (asMinutes(s), asMinutes(rs))"
      ],
      "execution_count": 0,
      "outputs": []
    },
    {
      "cell_type": "markdown",
      "metadata": {
        "id": "mTBGz5o3-A9z",
        "colab_type": "text"
      },
      "source": [
        "Training steps including:\n",
        "   - Start a timer\n",
        "   - Initialize optimizers and criterion\n",
        "   - Create set of training pairs\n",
        "   - Start empty losses array for plotting"
      ]
    },
    {
      "cell_type": "code",
      "metadata": {
        "id": "Hc_3QIkmXexq",
        "colab_type": "code",
        "colab": {}
      },
      "source": [
        "import matplotlib.pyplot as plt\n",
        "plt.switch_backend('agg')\n",
        "%matplotlib inline\n",
        "import matplotlib.ticker as ticker\n",
        "import numpy as np"
      ],
      "execution_count": 0,
      "outputs": []
    },
    {
      "cell_type": "code",
      "metadata": {
        "id": "oRwjWV_5-A90",
        "colab_type": "code",
        "colab": {}
      },
      "source": [
        "def showPlot(points):\n",
        "    plt.figure()\n",
        "    fig, ax = plt.subplots()\n",
        "    loc = ticker.MultipleLocator(base=0.2)\n",
        "    ax.yaxis.set_major_locator(loc)\n",
        "    plt.plot(points)"
      ],
      "execution_count": 0,
      "outputs": []
    },
    {
      "cell_type": "code",
      "metadata": {
        "id": "x7NBBHNs-A94",
        "colab_type": "code",
        "colab": {}
      },
      "source": [
        "def trainIters(encoder, decoder, n_iters, print_every=1000, plot_every=100, learning_rate=0.01):\n",
        "    start = time.time()\n",
        "    plot_losses = []\n",
        "    print_loss_total, plot_loss_total = 0, 0\n",
        "\n",
        "    encoder_optimizer = optim.SGD(encoder.parameters(), lr=learning_rate)\n",
        "    decoder_optimizer = optim.SGD(decoder.parameters(), lr=learning_rate)\n",
        "    training_pairs = [tensorsFromPair(random.choice(pairs)) for i in range(n_iters)]\n",
        "    criterion = nn.NLLLoss()\n",
        "\n",
        "    for iter in range(1, n_iters + 1):\n",
        "        training_pair = training_pairs[iter - 1]\n",
        "        input_tensor = training_pair[0]\n",
        "        target_tensor = training_pair[1]\n",
        "\n",
        "        loss = train(input_tensor, target_tensor, encoder, decoder, encoder_optimizer, decoder_optimizer, criterion)\n",
        "        print_loss_total += loss\n",
        "        plot_loss_total += loss\n",
        "\n",
        "        if iter % print_every == 0:\n",
        "            print_loss_avg = print_loss_total / print_every\n",
        "            print_loss_total = 0\n",
        "            print(\"Time: {} | ({} | {:.2f}%) avg: {:.4f}\".format(timeSince(start, iter / n_iters), iter, iter / n_iters * 100, print_loss_avg))\n",
        "\n",
        "        if iter % plot_every == 0:\n",
        "            plot_loss_avg = plot_loss_total / plot_every\n",
        "            plot_losses.append(plot_loss_avg)\n",
        "            plot_loss_total = 0\n",
        "\n",
        "    showPlot(plot_losses)"
      ],
      "execution_count": 0,
      "outputs": []
    },
    {
      "cell_type": "markdown",
      "metadata": {
        "id": "zFlwX4cq-A-E",
        "colab_type": "text"
      },
      "source": [
        "Start training..."
      ]
    },
    {
      "cell_type": "code",
      "metadata": {
        "id": "YZ1Nx6fs-A-G",
        "colab_type": "code",
        "outputId": "f368bfe7-8c74-461f-f6d0-5ba7ffd4fd3e",
        "colab": {
          "base_uri": "https://localhost:8080/",
          "height": 534
        }
      },
      "source": [
        "hidden_size = 128\n",
        "# input is an one-hot vector\n",
        "encoder = EncoderRNN(input_lang.n_words, hidden_size).to(device)\n",
        "attn_decoder = AttnDecoderRNN(hidden_size, output_lang.n_words, dropout_p=0.1).to(device)\n",
        "\n",
        "trainIters(encoder, attn_decoder, 3000, print_every= 200)"
      ],
      "execution_count": 0,
      "outputs": [
        {
          "output_type": "stream",
          "text": [
            "Time: 0m 6s (- 1m 31s) | (200 | 6.67%) avg: 4.1338\n",
            "Time: 0m 13s (- 1m 27s) | (400 | 13.33%) avg: 3.5375\n",
            "Time: 0m 20s (- 1m 22s) | (600 | 20.00%) avg: 3.4056\n",
            "Time: 0m 27s (- 1m 16s) | (800 | 26.67%) avg: 3.3867\n",
            "Time: 0m 35s (- 1m 10s) | (1000 | 33.33%) avg: 3.2972\n",
            "Time: 0m 42s (- 1m 3s) | (1200 | 40.00%) avg: 3.3674\n",
            "Time: 0m 49s (- 0m 56s) | (1400 | 46.67%) avg: 3.1786\n",
            "Time: 0m 56s (- 0m 49s) | (1600 | 53.33%) avg: 3.1304\n",
            "Time: 1m 4s (- 0m 42s) | (1800 | 60.00%) avg: 3.0450\n",
            "Time: 1m 11s (- 0m 35s) | (2000 | 66.67%) avg: 2.9839\n",
            "Time: 1m 19s (- 0m 28s) | (2200 | 73.33%) avg: 2.8429\n",
            "Time: 1m 26s (- 0m 21s) | (2400 | 80.00%) avg: 2.8225\n",
            "Time: 1m 34s (- 0m 14s) | (2600 | 86.67%) avg: 2.9626\n",
            "Time: 1m 41s (- 0m 7s) | (2800 | 93.33%) avg: 2.7430\n",
            "Time: 1m 48s (- 0m 0s) | (3000 | 100.00%) avg: 2.8173\n"
          ],
          "name": "stdout"
        },
        {
          "output_type": "display_data",
          "data": {
            "text/plain": [
              "<Figure size 432x288 with 0 Axes>"
            ]
          },
          "metadata": {
            "tags": []
          }
        },
        {
          "output_type": "display_data",
          "data": {
            "image/png": "[encoded data removed]",
            "text/plain": [
              "<Figure size 432x288 with 1 Axes>"
            ]
          },
          "metadata": {
            "tags": []
          }
        }
      ]
    },
    {
      "cell_type": "code",
      "metadata": {
        "id": "M3rBX5Uv5vnv",
        "colab_type": "code",
        "outputId": "9b77b1b6-3963-4cd0-b158-2043d5ed6045",
        "colab": {
          "base_uri": "https://localhost:8080/",
          "height": 536
        }
      },
      "source": [
        "trainIters(encoder, attn_decoder, 3000, print_every= 200)"
      ],
      "execution_count": 0,
      "outputs": [
        {
          "output_type": "stream",
          "text": [
            "Time: 0m 7s (- 1m 47s) | (200 | 6.67%) avg: 2.8572\n",
            "Time: 0m 15s (- 1m 37s) | (400 | 13.33%) avg: 2.8597\n",
            "Time: 0m 22s (- 1m 30s) | (600 | 20.00%) avg: 2.9174\n",
            "Time: 0m 30s (- 1m 22s) | (800 | 26.67%) avg: 2.8452\n",
            "Time: 0m 37s (- 1m 14s) | (1000 | 33.33%) avg: 2.6410\n",
            "Time: 0m 44s (- 1m 7s) | (1200 | 40.00%) avg: 2.6969\n",
            "Time: 0m 52s (- 0m 59s) | (1400 | 46.67%) avg: 2.7115\n",
            "Time: 0m 59s (- 0m 52s) | (1600 | 53.33%) avg: 2.7484\n",
            "Time: 1m 7s (- 0m 45s) | (1800 | 60.00%) avg: 2.6781\n",
            "Time: 1m 15s (- 0m 37s) | (2000 | 66.67%) avg: 2.5998\n",
            "Time: 1m 23s (- 0m 30s) | (2200 | 73.33%) avg: 2.6660\n",
            "Time: 1m 30s (- 0m 22s) | (2400 | 80.00%) avg: 2.6982\n",
            "Time: 1m 38s (- 0m 15s) | (2600 | 86.67%) avg: 2.5686\n",
            "Time: 1m 46s (- 0m 7s) | (2800 | 93.33%) avg: 2.6342\n",
            "Time: 1m 53s (- 0m 0s) | (3000 | 100.00%) avg: 2.5149\n"
          ],
          "name": "stdout"
        },
        {
          "output_type": "display_data",
          "data": {
            "text/plain": [
              "<Figure size 432x288 with 0 Axes>"
            ]
          },
          "metadata": {
            "tags": []
          }
        },
        {
          "output_type": "display_data",
          "data": {
            "image/png": "[encoded data removed]",
            "text/plain": [
              "<Figure size 432x288 with 1 Axes>"
            ]
          },
          "metadata": {
            "tags": []
          }
        }
      ]
    },
    {
      "cell_type": "markdown",
      "metadata": {
        "id": "ADBucHgb-A-N",
        "colab_type": "text"
      },
      "source": [
        "### Evaluation"
      ]
    },
    {
      "cell_type": "markdown",
      "metadata": {
        "id": "7njL2H9v-A-O",
        "colab_type": "text"
      },
      "source": [
        "Evaluation is mostly the same as training, but there are no targets so we simply feed the decoder’s predictions back to itself for each step. Every time it predicts a word we add it to the output string, and if it predicts the EOS token we stop there. We also store the decoder’s attention outputs for display later."
      ]
    },
    {
      "cell_type": "code",
      "metadata": {
        "id": "dxetl4Jr-A-P",
        "colab_type": "code",
        "colab": {}
      },
      "source": [
        "def evaluate(encoder, decoder, sentence, max_length=MAX_LENGTH):\n",
        "    with torch.no_grad():\n",
        "        input_tensor = tensorFromSentence(input_lang, sentence)\n",
        "        input_length = input_tensor.size()[0]\n",
        "        encoder_hidden = encoder.initHidden()\n",
        "\n",
        "        encoder_outputs = torch.zeros(max_length, encoder.hidden_size, device=device)\n",
        "\n",
        "        for ei in range(input_length):\n",
        "            encoder_output, encoder_hidden = encoder(input_tensor[ei],\n",
        "                                                     encoder_hidden)\n",
        "            encoder_outputs[ei] += encoder_output[0, 0]\n",
        "\n",
        "        decoder_input = torch.tensor([[SOS_token]], device=device)\n",
        "        decoder_hidden = encoder_hidden\n",
        "\n",
        "        decoded_words = []\n",
        "        decoder_attentions = torch.zeros(max_length, max_length)\n",
        "\n",
        "        for di in range(max_length):\n",
        "            decoder_output, decoder_hidden, decoder_attention = decoder(\n",
        "                decoder_input, decoder_hidden, encoder_outputs)\n",
        "            decoder_attentions[di] = decoder_attention.data\n",
        "            topvalue, topindex = decoder_output.data.topk(1)\n",
        "            if topindex.item() == EOS_token:\n",
        "                decoded_words.append('<EOS>')\n",
        "                break\n",
        "            else:\n",
        "                decoded_words.append(output_lang.index2word[topindex.item()])\n",
        "\n",
        "            decoder_input = topindex.squeeze().detach()\n",
        "\n",
        "        return decoded_words, decoder_attentions[:di + 1]"
      ],
      "execution_count": 0,
      "outputs": []
    },
    {
      "cell_type": "markdown",
      "metadata": {
        "id": "SRxDeZPk-A-U",
        "colab_type": "text"
      },
      "source": [
        "We can evaluate random sentences from the training set and print out the input, target, and output to make some subjective quality judgements:"
      ]
    },
    {
      "cell_type": "code",
      "metadata": {
        "id": "sYKJOu8C-A-V",
        "colab_type": "code",
        "colab": {}
      },
      "source": [
        "def evaluateRandomly(encoder, decoder, n=10):\n",
        "    for i in range(n):\n",
        "        pair = random.choice(pairs)\n",
        "        print(\">\", pair[0])\n",
        "        print(\"=\", pair[1])\n",
        "        output_words, attentions = evaluate(encoder, attn_decoder, pair[0])\n",
        "        output_sentence = ' '.join(output_words)\n",
        "        print(\"<\", output_sentence)\n",
        "        print('\\n')"
      ],
      "execution_count": 0,
      "outputs": []
    },
    {
      "cell_type": "markdown",
      "metadata": {
        "id": "nQ2Rrki--A-a",
        "colab_type": "text"
      },
      "source": [
        "Start evaluating..."
      ]
    },
    {
      "cell_type": "code",
      "metadata": {
        "id": "9-yWRMPY-A-d",
        "colab_type": "code",
        "outputId": "9a1be3e5-5042-4fcc-c714-718694cfacf1",
        "colab": {
          "base_uri": "https://localhost:8080/",
          "height": 857
        }
      },
      "source": [
        "evaluateRandomly(encoder, attn_decoder)"
      ],
      "execution_count": 0,
      "outputs": [
        {
          "output_type": "stream",
          "text": [
            "> il est actif et en forme .\n",
            "= he s active and fit .\n",
            "< he is a to a . <EOS>\n",
            "\n",
            "\n",
            "> il est toujours celibataire .\n",
            "= he s still single .\n",
            "< he is always at . <EOS>\n",
            "\n",
            "\n",
            "> vous etes bavarde .\n",
            "= you re talkative .\n",
            "< you re a . <EOS>\n",
            "\n",
            "\n",
            "> je ne suis pas folle .\n",
            "= i m not insane .\n",
            "< i m not a . . <EOS>\n",
            "\n",
            "\n",
            "> je m en rends compte .\n",
            "= i m fully aware of that .\n",
            "< i m going to a . <EOS>\n",
            "\n",
            "\n",
            "> elle est l editeur en chef .\n",
            "= she is the executive editor .\n",
            "< she is my at the . <EOS>\n",
            "\n",
            "\n",
            "> je suis rarement autant en colere .\n",
            "= i m rarely this angry .\n",
            "< i m going to a . <EOS>\n",
            "\n",
            "\n",
            "> je suis dans la maison .\n",
            "= i m in the house .\n",
            "< i m a to . . <EOS>\n",
            "\n",
            "\n",
            "> il est faible en chimie .\n",
            "= he is poor at chemistry .\n",
            "< he is a to a . <EOS>\n",
            "\n",
            "\n",
            "> elle fait un regime .\n",
            "= she s dieting .\n",
            "< she is a . <EOS>\n",
            "\n",
            "\n"
          ],
          "name": "stdout"
        }
      ]
    },
    {
      "cell_type": "markdown",
      "metadata": {
        "id": "6TaEFr3A-A-g",
        "colab_type": "text"
      },
      "source": [
        "### Data Visualizing"
      ]
    },
    {
      "cell_type": "markdown",
      "metadata": {
        "id": "nFGm83yl-A-h",
        "colab_type": "text"
      },
      "source": [
        "A useful property of the attention mechanism is its highly interpretable outputs. Because it is used to weight specific encoder outputs of the input sequence, we can imagine looking where the network is focused most at each time step."
      ]
    },
    {
      "cell_type": "code",
      "metadata": {
        "id": "Eqm98VF2-A-i",
        "colab_type": "code",
        "outputId": "888081f4-e235-4d9e-ac3c-652ecfb456db",
        "colab": {
          "base_uri": "https://localhost:8080/",
          "height": 292
        }
      },
      "source": [
        "output_words, attentions = evaluate(encoder, attn_decoder, random.choice(pairs)[0])\n",
        "plt.matshow(attentions.numpy())"
      ],
      "execution_count": 0,
      "outputs": [
        {
          "output_type": "execute_result",
          "data": {
            "text/plain": [
              "<matplotlib.image.AxesImage at 0x7fd1f8f7d860>"
            ]
          },
          "metadata": {
            "tags": []
          },
          "execution_count": 105
        },
        {
          "output_type": "display_data",
          "data": {
            "image/png": "[encoded data removed]",
            "text/plain": [
              "<Figure size 411.429x288 with 1 Axes>"
            ]
          },
          "metadata": {
            "tags": []
          }
        }
      ]
    },
    {
      "cell_type": "markdown",
      "metadata": {
        "id": "Q8jrb8Wk-A-m",
        "colab_type": "text"
      },
      "source": [
        "For a better viewing experience we will do the extra work of adding axes and labels:"
      ]
    },
    {
      "cell_type": "code",
      "metadata": {
        "id": "I1zdXZlU-A-n",
        "colab_type": "code",
        "colab": {}
      },
      "source": [
        "def showAttention(input_sentence, output_words, attentions):\n",
        "    fig = plt.figure()\n",
        "    ax = fig.add_subplot(111)\n",
        "    cax = ax.matshow(attentions.numpy(), cmap='bone')\n",
        "    fig.colorbar(cax)\n",
        "\n",
        "    ax.set_xticklabels([''] + input_sentence.split(' ') + ['<EOS>'], rotation=90)\n",
        "    ax.set_yticklabels([''] + output_words)\n",
        "\n",
        "    ax.xaxis.set_major_locator(ticker.MultipleLocator(1))\n",
        "    ax.yaxis.set_major_locator(ticker.MultipleLocator(1))\n",
        "\n",
        "    plt.show()\n",
        "\n",
        "    \n",
        "def evaluateAndShowAttention(input_sentence):\n",
        "    output_words, attentions = evaluate(encoder, attn_decoder, input_sentence)\n",
        "    print('input =', input_sentence)\n",
        "    print('output =', ' '.join(output_words))\n",
        "    showAttention(input_sentence, output_words, attentions)"
      ],
      "execution_count": 0,
      "outputs": []
    },
    {
      "cell_type": "code",
      "metadata": {
        "id": "PYfVXTOC-A-3",
        "colab_type": "code",
        "outputId": "f18767c3-fe92-4f2b-b5b8-eac09e3c989d",
        "colab": {
          "base_uri": "https://localhost:8080/",
          "height": 1000
        }
      },
      "source": [
        "evaluateAndShowAttention(\"elle a cinq ans de moins que moi .\")\n",
        "evaluateAndShowAttention(\"elle est trop petit .\")\n",
        "evaluateAndShowAttention(\"je ne crains pas de mourir .\")\n",
        "evaluateAndShowAttention(\"c est un jeune directeur plein de talent .\")"
      ],
      "execution_count": 0,
      "outputs": [
        {
          "output_type": "stream",
          "text": [
            "input = elle a cinq ans de moins que moi .\n",
            "output = she is afraid of the . <EOS>\n"
          ],
          "name": "stdout"
        },
        {
          "output_type": "display_data",
          "data": {
            "image/png": "[encoded data removed]",
            "text/plain": [
              "<Figure size 432x288 with 2 Axes>"
            ]
          },
          "metadata": {
            "tags": []
          }
        },
        {
          "output_type": "stream",
          "text": [
            "input = elle est trop petit .\n",
            "output = she is a to . <EOS>\n"
          ],
          "name": "stdout"
        },
        {
          "output_type": "display_data",
          "data": {
            "image/png": "[encoded data removed]",
            "text/plain": [
              "<Figure size 432x288 with 2 Axes>"
            ]
          },
          "metadata": {
            "tags": []
          }
        },
        {
          "output_type": "stream",
          "text": [
            "input = je ne crains pas de mourir .\n",
            "output = i m not a to see . <EOS>\n"
          ],
          "name": "stdout"
        },
        {
          "output_type": "display_data",
          "data": {
            "image/png": "[encoded data removed]",
            "text/plain": [
              "<Figure size 432x288 with 2 Axes>"
            ]
          },
          "metadata": {
            "tags": []
          }
        },
        {
          "output_type": "stream",
          "text": [
            "input = c est un jeune directeur plein de talent .\n",
            "output = he is a to a . <EOS>\n"
          ],
          "name": "stdout"
        },
        {
          "output_type": "display_data",
          "data": {
            "image/png": "[encoded data removed]",
            "text/plain": [
              "<Figure size 432x288 with 2 Axes>"
            ]
          },
          "metadata": {
            "tags": []
          }
        }
      ]
    },
    {
      "cell_type": "markdown",
      "metadata": {
        "id": "C60mdYK4-A_D",
        "colab_type": "text"
      },
      "source": [
        "### Using pre-train embedding"
      ]
    },
    {
      "cell_type": "markdown",
      "metadata": {
        "id": "quYM_NyF-A_F",
        "colab_type": "text"
      },
      "source": [
        "- Download pre-trained word-embedding here: \n",
        "  - [FastText crawl 300d 2M](https://www.kaggle.com/yekenot/fasttext-crawl-300d-2m)\n",
        "  - [glove.840B.300d](https://nlp.stanford.edu/projects/glove/)\n",
        "  - [glove.twitter.27B](https://nlp.stanford.edu/projects/glove/)"
      ]
    },
    {
      "cell_type": "code",
      "metadata": {
        "id": "Yk5HJ0Qn-A_K",
        "colab_type": "code",
        "colab": {}
      },
      "source": [
        "FAST_TEXT_EMBEDDING = 'crawl-300d-2M.vec'"
      ],
      "execution_count": 0,
      "outputs": []
    },
    {
      "cell_type": "code",
      "metadata": {
        "id": "zVi_cAux-A_T",
        "colab_type": "code",
        "colab": {}
      },
      "source": [
        "def load_pretrain_embedding(file):\n",
        "    \"\"\"\n",
        "    Return a dictionary whose key is word, value is pretrained word embedding.\n",
        "    \"\"\"\n",
        "    print('Indexing word vectors')\n",
        "    embeddings_index = {}\n",
        "    f = open(file, 'r', encoding='utf-8')\n",
        "    for line in f:\n",
        "        values = line.split()\n",
        "        try:\n",
        "            word = values[0]\n",
        "            coefs = np.array(values[1:], dtype='float32')\n",
        "            embeddings_index[word] = coefs\n",
        "        except:\n",
        "            print(\"Error on: \", values[:3])\n",
        "    f.close()\n",
        "    print(\"Total %s word vectors\" % len(embeddings_index))\n",
        "    return embeddings_index"
      ],
      "execution_count": 0,
      "outputs": []
    },
    {
      "cell_type": "code",
      "metadata": {
        "id": "dRYFTSQv-A_a",
        "colab_type": "code",
        "colab": {}
      },
      "source": [
        "embeddings_index = load_pretrain_embedding(FAST_TEXT_EMBEDDING)"
      ],
      "execution_count": 0,
      "outputs": []
    },
    {
      "cell_type": "code",
      "metadata": {
        "id": "gUXtmp6R-A_e",
        "colab_type": "code",
        "colab": {}
      },
      "source": [
        "MAX_NB_WORDS = 100000\n",
        "EMBEDDING_DIM = 300\n",
        "\n",
        "print('Preparing embedding matrix...')\n",
        "nb_words = min(MAX_NB_WORDS, output_lang.n_words)\n",
        "embedding_matrix = np.zeros((nb_words, EMBEDDING_DIM))\n",
        "\n",
        "null_words = open('null_words.txt', 'w', encoding='utf-8')\n",
        "\n",
        "for word, idx in output_lang.word2index.items():\n",
        "    embedding_vector = embeddings_index.get(word)\n",
        "    if embedding_vector is not None:\n",
        "        embedding_matrix[idx] = embedding_vector\n",
        "    else:\n",
        "        null_words.write(word + '\\n')\n",
        "print('Null_word embeddings: %d' % np.sum(np.sum(embedding_matrix, axis=1) != 0))"
      ],
      "execution_count": 0,
      "outputs": []
    },
    {
      "cell_type": "code",
      "metadata": {
        "id": "gGmU4FEu-A_i",
        "colab_type": "code",
        "colab": {}
      },
      "source": [
        "class preAttnDecoderRNN(nn.Module):\n",
        "    def __init__(self, hidden_size, output_size, dropout_p=0.1, max_length=MAX_LENGTH):\n",
        "        super(preAttnDecoderRNN, self).__init__()\n",
        "        self.hidden_size = hidden_size\n",
        "        self.output_size = output_size\n",
        "        self.dropout_p = dropout_p\n",
        "        self.max_length = max_length\n",
        "        \n",
        "        # load pre-train embedding\n",
        "        self.embedding = nn.Embedding(self.output_size, self.hidden_size)\n",
        "        self.embedding.weight.data.copy_(torch.from_numpy(embedding_matrix))\n",
        "        self.embedding.weight.requires_grad=False\n",
        "        \n",
        "        # Transform the double hidden features into probabilities with max_length size\n",
        "        self.attn = nn.Linear(self.hidden_size * 2, self.max_length)\n",
        "        self.attn_combine = nn.Linear(self.hidden_size * 2, self.hidden_size)\n",
        "        self.dropout = nn.Dropout(self.dropout_p)\n",
        "        self.gru = nn.GRU(self.hidden_size, self.hidden_size)\n",
        "        self.out = nn.Linear(self.hidden_size, self.output_size)\n",
        "\n",
        "    def forward(self, inpt, hidden, encoder_outputs):\n",
        "        embedded = self.embedding(inpt).view(1, 1, -1)\n",
        "        embedded = self.dropout(embedded)\n",
        "\n",
        "        attn_weights = F.softmax(self.attn(torch.cat((embedded[0], hidden[0]), 1)), dim=1)\n",
        "        attn_applied = torch.bmm(attn_weights.unsqueeze(0), encoder_outputs.unsqueeze(0))\n",
        "\n",
        "        output = torch.cat((embedded[0], attn_applied[0]), 1)\n",
        "        output = self.attn_combine(output).unsqueeze(0)\n",
        "\n",
        "        output = F.relu(output)\n",
        "        output, hidden = self.gru(output, hidden)\n",
        "\n",
        "        output = F.log_softmax(self.out(output[0]), dim=1)\n",
        "        return output, hidden, attn_weights\n",
        "\n",
        "    def initHidden(self):\n",
        "        return torch.zeros(1, 1, self.hidden_size, device=device)"
      ],
      "execution_count": 0,
      "outputs": []
    },
    {
      "cell_type": "code",
      "metadata": {
        "id": "ZlKBfadl-A_l",
        "colab_type": "code",
        "colab": {}
      },
      "source": [
        "def trainIters(encoder, decoder, n_iters, print_every=1000, plot_every=100, learning_rate=0.01):\n",
        "    start = time.time()\n",
        "    plot_losses = []\n",
        "    print_loss_total, plot_loss_total = 0, 0\n",
        "\n",
        "    encoder_optimizer = optim.SGD(encoder.parameters(), lr=learning_rate)\n",
        "    decoder_optimizer = optim.SGD(filter(lambda p: p.requires_grad, decoder.parameters()), lr=learning_rate)\n",
        "    training_pairs = [tensorsFromPair(random.choice(pairs)) for i in range(n_iters)]\n",
        "    criterion = nn.NLLLoss()\n",
        "\n",
        "    for iter in range(1, n_iters + 1):\n",
        "        training_pair = training_pairs[iter - 1]\n",
        "        input_tensor = training_pair[0]\n",
        "        target_tensor = training_pair[1]\n",
        "\n",
        "        loss = train(input_tensor, target_tensor, encoder, decoder, encoder_optimizer, decoder_optimizer, criterion)\n",
        "        print_loss_total += loss\n",
        "        plot_loss_total += loss\n",
        "\n",
        "        if iter % print_every == 0:\n",
        "            print_loss_avg = print_loss_total / print_every\n",
        "            print_loss_total = 0\n",
        "            print(\"Time: {} | ({} | {:.2f}%) avg: {:.4f}\".format(timeSince(start, iter / n_iters), iter, iter / n_iters * 100, print_loss_avg))\n",
        "\n",
        "        if iter % plot_every == 0:\n",
        "            plot_loss_avg = plot_loss_total / plot_every\n",
        "            plot_losses.append(plot_loss_avg)\n",
        "            plot_loss_total = 0\n",
        "\n",
        "    showPlot(plot_losses)"
      ],
      "execution_count": 0,
      "outputs": []
    },
    {
      "cell_type": "code",
      "metadata": {
        "id": "3bUFKeMg-A_p",
        "colab_type": "code",
        "colab": {}
      },
      "source": [
        "pre_hidden_size = 300\n",
        "\n",
        "pre_encoder = EncoderRNN(input_lang.n_words, pre_hidden_size).to(device)\n",
        "pre_attn_decoder = preAttnDecoderRNN(pre_hidden_size, output_lang.n_words, dropout_p=0.1).to(device)\n",
        "\n",
        "trainIters(pre_encoder, pre_attn_decoder, 75000, print_every=5000)"
      ],
      "execution_count": 0,
      "outputs": []
    }
  ]
}